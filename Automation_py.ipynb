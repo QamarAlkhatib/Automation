{
  "nbformat": 4,
  "nbformat_minor": 0,
  "metadata": {
    "colab": {
      "name": "Automation.py",
      "provenance": [],
      "collapsed_sections": [],
      "authorship_tag": "ABX9TyNjiH0N+qN5rC9Wif3D2h0N",
      "include_colab_link": true
    },
    "kernelspec": {
      "name": "python3",
      "display_name": "Python 3"
    },
    "language_info": {
      "name": "python"
    }
  },
  "cells": [
    {
      "cell_type": "markdown",
      "metadata": {
        "id": "view-in-github",
        "colab_type": "text"
      },
      "source": [
        "<a href=\"https://colab.research.google.com/github/QamarAlkhatib/Automation/blob/main/Automation_py.ipynb\" target=\"_parent\"><img src=\"https://colab.research.google.com/assets/colab-badge.svg\" alt=\"Open In Colab\"/></a>"
      ]
    },
    {
      "cell_type": "code",
      "metadata": {
        "id": "lYyggwM6Z2Ym"
      },
      "source": [
        "import re\n",
        "from collections import Counter\n",
        "\n",
        "with open(\"potential-contacts.txt\") as f:\n",
        "  text_file = f.read()\n",
        "\n",
        "emails = re.findall(r\"[a-z0-9\\.\\-+_]+@[a-z0-9\\.\\-+_]+\\.[a-z]+\",text_file)\n",
        "\n",
        "def get_duplicates(x):\n",
        "  return dict(Counter(x))\n",
        "\n",
        "def remove_duplicates(x):\n",
        "  return list(dict.fromkeys(x))\n",
        "\n",
        "emails.sort()\n",
        "rd_emails = remove_duplicates(emails)\n",
        "\n",
        "\n",
        "with open('emails.txt', 'w') as f:\n",
        "    for i in rd_emails:\n",
        "      f.write(i + \"\\n\")\n",
        "\n",
        "def format_phone (num_list=[]):\n",
        "    regex = re.compile(r'(\\d{3}[-.\\s]??\\d{3}[-.\\s]??\\d{4}|(\\d{3})\\s*\\d{3}[-.\\s]??\\d{4}|\\d{3}[-.\\s]??\\d{4})')\n",
        "    with open('potential-contacts.txt', 'r') as f:\n",
        "        file_num = f.readlines()\n",
        "        for i in file_num:\n",
        "            if regex.search(i):\n",
        "                number = regex.search(i).group()\n",
        "                if '.' in number:\n",
        "                    number = number.replace('.', '-')\n",
        "                if '(' in number:\n",
        "                    number = number.strip('(')\n",
        "                if '+' in number:\n",
        "                    number = number.replace('+', '00')\n",
        "                if ')' in number:\n",
        "                    number = number.replace(')', '-')\n",
        "                if '-' in number and len(number)==10:\n",
        "                    number = number.strip('-')\n",
        "                    number = f'{number[:3]}-{number[3:6]}-{number[5:]}'\n",
        "                if len(number) == 10:\n",
        "                    number = f'{number[:3]}-{number[3:5]}-{number[5:]}'\n",
        "                if len(number) == 8:\n",
        "                    number = number.strip('-')\n",
        "                    number = '206'+ '-'+number\n",
        "                num_list.append(number)\n",
        "                num_list.sort()\n",
        "                remove_duplicates(num_list)\n",
        "    return num_list\n",
        "\n",
        "\n",
        "with open('phone_numbers.txt', 'w') as f:\n",
        "    for i in format_phone():\n",
        "      f.write(i + \"\\n\")\n"
      ],
      "execution_count": null,
      "outputs": []
    }
  ]
}